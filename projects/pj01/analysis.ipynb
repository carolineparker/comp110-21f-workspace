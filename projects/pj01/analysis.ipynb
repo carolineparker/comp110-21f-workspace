{
 "cells": [
  {
   "cell_type": "markdown",
   "metadata": {},
   "source": [
    "# Hypothesis: Students who have taken AP Computer Science find Comp110 less difficult than those who did not take it\n",
    "\n"
   ]
  },
  {
   "cell_type": "markdown",
   "metadata": {},
   "source": [
    "First, I will read the csv and convert it to a column-oriented data table"
   ]
  },
  {
   "cell_type": "code",
   "execution_count": 401,
   "metadata": {},
   "outputs": [],
   "source": [
    "%reload_ext autoreload\n",
    "%autoreload 2\n",
    "\n"
   ]
  },
  {
   "cell_type": "code",
   "execution_count": 402,
   "metadata": {},
   "outputs": [],
   "source": [
    "from data_utils import read_csv_rows, columnar\n",
    "\n",
    "data_rows: list[dict[str, str]] = read_csv_rows('../../data/survey.csv')\n",
    "columns: dict[str, list[str]] = columnar(data_rows)"
   ]
  },
  {
   "cell_type": "markdown",
   "metadata": {},
   "source": [
    "## Next I will select the AP Computer Science column and the difficulty ranking column\n"
   ]
  },
  {
   "cell_type": "code",
   "execution_count": 403,
   "metadata": {},
   "outputs": [
    {
     "name": "stdout",
     "output_type": "stream",
     "text": [
      "{'AP_A': ['', '', '', '', '', 'Yes', '', '', '', '', '', '', 'No', '', '', '', 'No', '', '', '', 'No', '', 'No', '', '', '', 'No', '', '', '', '', '', '', '', '', '', '', '', '', '', '', '', '', 'No', '', 'No', '', '', '', '', '', '', '', '', '', '', '', '', '', '', 'No', '', '', 'No', '', '', 'No', '', '', '', '', 'No', '', 'No', '', '', '', 'No', '', 'Yes', '', '', '', '', '', '', 'No', '', '', '', '', 'No', '', '', '', '', 'No', '', '', '', '', 'Yes', '', '', 'No', '', '', '', '', '', 'No', 'Yes', '', '', 'No', '', 'No', '', '', 'No', 'Yes', '', '', '', 'No', '', '', '', '', '', '', 'No', '', 'Yes', '', 'No', '', '', 'No', 'No', '', 'No', 'No', '', 'Yes', '', 'No', 'Yes', 'Yes', 'No', '', '', '', '', 'No', '', 'Yes', 'Yes', 'No', '', 'Yes', 'No', '', 'No', 'Yes', 'Yes', 'Yes', 'Yes', '', 'Yes', 'No', 'No', 'Yes', 'No', 'Yes', 'No', 'No', 'No', '', 'Yes', 'No', 'No', 'Yes', '', 'No', 'No', 'Yes', 'No', '', 'No', '', 'Yes', '', 'Yes', 'No', 'No', 'No', '', '', '', 'Yes', 'No', 'No', '', 'No', 'No', 'Yes', '', '', 'Yes', 'No', '', '', 'No', 'No', '', 'No', 'No', '', '', 'No', 'No', '', '', 'No', 'No', 'Yes', '', 'No', 'No', '', '', 'Yes', 'No', '', 'No', 'No', 'No', 'No', 'No', '', '', 'No', 'No', 'No', '', '', '', '', 'No', '', '', '', 'Yes', '', 'No', '', '', '', '', '', '', '', '', 'No', 'No', '', '', '', '', '', 'No', '', 'No', '', 'No', '', '', 'No', 'No', 'No', '', '', '', 'No', '', '', '', 'No', 'No', 'Yes', '', '', '', '', 'No', '', '', '', '', '', '', '', '', '', '', '', '', '', '', '', '', '', 'No', '', 'No', '', '', '', 'No', '', '', '', '', '', 'No', '', '', '', '', '', '', 'No', '', 'No', '', '', '', 'Yes', '', 'No', '', '', '', 'No', '', '', '', '', '', 'No', '', '', '', '', '', '', '', 'No', 'No', '', '', '', '', 'No', '', '', '', '', '', 'No', 'No', '', 'No', '', 'Yes', '', '', 'No', '', '', 'No', '', 'No', '', '', '', '', '', '', '', '', 'Yes', '', '', '', '', '', '', '', '', '', '', '', '', '', '', 'No', '', '', '', '', 'No', '', '', '', '', '', '', '', '', '', '', '', '', '', '', '', 'No', '', '', '', '', 'No', '', '', 'No', '', '', 'No', 'Yes', '', 'No', '', '', '', '', '', '', '', '', '', '', 'No', '', 'No', '', '', '', 'No', '', '', 'No', '', '', '', '', '', '', '', '', '', '', '', '', '', '', 'No', '', '', '', '', '', '', '', '', '', '', '', '', '', '', '', '', '', '', 'No', '', '', '', '', '', '', '', '', '', '', '', '', 'No', '', '', '', 'No', '', '', '', '', 'No', '', '', '', 'No', '', '', '', '', '', '', '', '', '', 'No', 'No', '', '', '', '', '', 'No', '', 'No', 'No', '', 'No', 'No', '', 'No', '', '', 'No', '', '', '', 'No', '', '', '', '', '', 'No', '', '', '', '', 'No', '', '', '', '', '', 'No', ''], 'difficulty': ['5', '3', '5', '6', '4', '5', '6', '5', '5', '7', '7', '7', '5', '5', '5', '5', '2', '6', '6', '7', '4', '4', '4', '3', '5', '5', '4', '4', '4', '4', '5', '4', '3', '5', '7', '5', '5', '5', '5', '7', '6', '5', '7', '6', '4', '6', '4', '4', '5', '6', '7', '5', '4', '7', '7', '5', '4', '3', '3', '6', '1', '6', '5', '4', '6', '5', '3', '3', '5', '4', '4', '4', '7', '7', '6', '5', '4', '5', '6', '4', '2', '5', '3', '7', '5', '5', '4', '5', '5', '6', '7', '5', '7', '7', '4', '7', '1', '3', '6', '7', '4', '2', '4', '5', '2', '6', '6', '5', '5', '3', '4', '4', '6', '7', '3', '5', '6', '2', '3', '5', '4', '7', '6', '6', '2', '4', '5', '7', '6', '7', '6', '4', '7', '3', '4', '3', '6', '4', '4', '3', '3', '4', '4', '4', '3', '7', '4', '4', '5', '2', '6', '5', '6', '4', '1', '3', '4', '4', '2', '4', '1', '4', '6', '5', '3', '3', '3', '3', '2', '4', '2', '2', '1', '4', '4', '3', '3', '4', '5', '2', '5', '3', '3', '6', '5', '4', '2', '3', '4', '2', '7', '1', '3', '4', '1', '5', '1', '6', '6', '5', '4', '1', '5', '4', '4', '2', '4', '5', '3', '4', '4', '2', '4', '4', '5', '6', '6', '2', '4', '7', '4', '1', '4', '7', '5', '7', '4', '6', '3', '3', '5', '4', '4', '3', '5', '4', '6', '5', '4', '4', '6', '5', '4', '4', '5', '5', '6', '4', '5', '3', '6', '5', '6', '3', '4', '3', '4', '5', '4', '6', '5', '5', '3', '2', '4', '5', '7', '4', '5', '6', '5', '2', '5', '6', '7', '7', '4', '7', '5', '5', '5', '4', '5', '6', '5', '3', '6', '7', '4', '4', '3', '7', '5', '5', '7', '5', '6', '7', '6', '4', '5', '5', '6', '5', '5', '4', '6', '6', '5', '5', '5', '6', '7', '5', '5', '3', '7', '4', '5', '3', '4', '5', '4', '7', '4', '3', '5', '4', '6', '4', '4', '4', '5', '3', '7', '6', '7', '7', '7', '7', '5', '7', '7', '6', '7', '6', '4', '3', '7', '6', '4', '6', '5', '5', '5', '3', '6', '3', '2', '5', '7', '6', '5', '7', '5', '4', '2', '5', '4', '5', '2', '2', '3', '5', '5', '3', '4', '3', '2', '5', '5', '5', '5', '5', '4', '6', '5', '7', '3', '4', '4', '3', '2', '6', '5', '4', '6', '7', '6', '5', '7', '5', '5', '5', '4', '6', '5', '6', '6', '5', '6', '6', '2', '3', '7', '6', '5', '7', '6', '7', '4', '4', '4', '6', '6', '6', '4', '7', '4', '6', '5', '6', '6', '4', '4', '5', '1', '7', '6', '5', '4', '7', '4', '6', '6', '6', '7', '6', '5', '6', '7', '7', '7', '5', '4', '6', '7', '7', '5', '6', '5', '6', '6', '5', '5', '6', '4', '7', '5', '6', '3', '7', '7', '7', '5', '7', '4', '2', '7', '7', '6', '7', '7', '6', '7', '7', '5', '7', '7', '5', '6', '5', '6', '7', '6', '6', '5', '6', '6', '7', '4', '7', '7', '5', '6', '4', '3', '7', '5', '5', '5', '6', '7', '6', '6', '7', '4', '5', '5', '5', '6', '5', '5', '6', '5', '5', '2', '5', '4', '5', '6', '6', '2', '5', '5', '6', '5', '4', '5', '4', '5', '5', '4', '6', '5', '2', '7', '4', '6', '6', '6', '5', '6', '5', '5', '5', '5', '5', '5', '3', '6', '6', '5', '5', '5', '2', '5', '6', '5', '6', '2', '4', '4']}\n"
     ]
    }
   ],
   "source": [
    "from data_utils import head, select\n",
    "from tabulate import tabulate\n",
    "\n",
    "selected_data: dict[str, list[str]] = select(columns, [\"AP_A\", \"difficulty\"])\n",
    "\n",
    "print(selected_data)"
   ]
  },
  {
   "cell_type": "markdown",
   "metadata": {},
   "source": [
    "# Now I will display the first few rows of the dictionary I am using"
   ]
  },
  {
   "cell_type": "markdown",
   "metadata": {},
   "source": [
    "### Empty AP_A values represent students who did not report an answer, which are filtered out in the next step"
   ]
  },
  {
   "cell_type": "code",
   "execution_count": 404,
   "metadata": {},
   "outputs": [
    {
     "data": {
      "text/html": [
       "<table>\n",
       "<thead>\n",
       "<tr><th>AP_A  </th><th style=\"text-align: right;\">  difficulty</th></tr>\n",
       "</thead>\n",
       "<tbody>\n",
       "<tr><td>      </td><td style=\"text-align: right;\">           5</td></tr>\n",
       "<tr><td>      </td><td style=\"text-align: right;\">           3</td></tr>\n",
       "<tr><td>      </td><td style=\"text-align: right;\">           5</td></tr>\n",
       "<tr><td>      </td><td style=\"text-align: right;\">           6</td></tr>\n",
       "<tr><td>      </td><td style=\"text-align: right;\">           4</td></tr>\n",
       "<tr><td>Yes   </td><td style=\"text-align: right;\">           5</td></tr>\n",
       "<tr><td>      </td><td style=\"text-align: right;\">           6</td></tr>\n",
       "<tr><td>      </td><td style=\"text-align: right;\">           5</td></tr>\n",
       "<tr><td>      </td><td style=\"text-align: right;\">           5</td></tr>\n",
       "<tr><td>      </td><td style=\"text-align: right;\">           7</td></tr>\n",
       "<tr><td>      </td><td style=\"text-align: right;\">           7</td></tr>\n",
       "<tr><td>      </td><td style=\"text-align: right;\">           7</td></tr>\n",
       "<tr><td>No    </td><td style=\"text-align: right;\">           5</td></tr>\n",
       "<tr><td>      </td><td style=\"text-align: right;\">           5</td></tr>\n",
       "<tr><td>      </td><td style=\"text-align: right;\">           5</td></tr>\n",
       "</tbody>\n",
       "</table>"
      ],
      "text/plain": [
       "'<table>\\n<thead>\\n<tr><th>AP_A  </th><th style=\"text-align: right;\">  difficulty</th></tr>\\n</thead>\\n<tbody>\\n<tr><td>      </td><td style=\"text-align: right;\">           5</td></tr>\\n<tr><td>      </td><td style=\"text-align: right;\">           3</td></tr>\\n<tr><td>      </td><td style=\"text-align: right;\">           5</td></tr>\\n<tr><td>      </td><td style=\"text-align: right;\">           6</td></tr>\\n<tr><td>      </td><td style=\"text-align: right;\">           4</td></tr>\\n<tr><td>Yes   </td><td style=\"text-align: right;\">           5</td></tr>\\n<tr><td>      </td><td style=\"text-align: right;\">           6</td></tr>\\n<tr><td>      </td><td style=\"text-align: right;\">           5</td></tr>\\n<tr><td>      </td><td style=\"text-align: right;\">           5</td></tr>\\n<tr><td>      </td><td style=\"text-align: right;\">           7</td></tr>\\n<tr><td>      </td><td style=\"text-align: right;\">           7</td></tr>\\n<tr><td>      </td><td style=\"text-align: right;\">           7</td></tr>\\n<tr><td>No    </td><td style=\"text-align: right;\">           5</td></tr>\\n<tr><td>      </td><td style=\"text-align: right;\">           5</td></tr>\\n<tr><td>      </td><td style=\"text-align: right;\">           5</td></tr>\\n</tbody>\\n</table>'"
      ]
     },
     "execution_count": 404,
     "metadata": {},
     "output_type": "execute_result"
    }
   ],
   "source": [
    "from data_utils import head\n",
    "from tabulate import tabulate\n",
    "\n",
    "tabulate(head(selected_data, 15), selected_data.keys(), \"html\")"
   ]
  },
  {
   "cell_type": "markdown",
   "metadata": {},
   "source": [
    "# Now I will use a helper function to filter out all the empty responses for the AP Comp Sci column"
   ]
  },
  {
   "cell_type": "code",
   "execution_count": 405,
   "metadata": {},
   "outputs": [
    {
     "data": {
      "text/plain": [
       "{'AP_A': ['Yes',\n",
       "  'No',\n",
       "  'No',\n",
       "  'No',\n",
       "  'No',\n",
       "  'No',\n",
       "  'No',\n",
       "  'No',\n",
       "  'No',\n",
       "  'No',\n",
       "  'No',\n",
       "  'No',\n",
       "  'No',\n",
       "  'No',\n",
       "  'Yes',\n",
       "  'No',\n",
       "  'No',\n",
       "  'No',\n",
       "  'Yes',\n",
       "  'No',\n",
       "  'No',\n",
       "  'Yes',\n",
       "  'No',\n",
       "  'No',\n",
       "  'No',\n",
       "  'Yes',\n",
       "  'No',\n",
       "  'No',\n",
       "  'Yes',\n",
       "  'No',\n",
       "  'No',\n",
       "  'No',\n",
       "  'No',\n",
       "  'No',\n",
       "  'Yes',\n",
       "  'No',\n",
       "  'Yes',\n",
       "  'Yes',\n",
       "  'No',\n",
       "  'No',\n",
       "  'Yes',\n",
       "  'Yes',\n",
       "  'No',\n",
       "  'Yes',\n",
       "  'No',\n",
       "  'No',\n",
       "  'Yes',\n",
       "  'Yes',\n",
       "  'Yes',\n",
       "  'Yes',\n",
       "  'Yes',\n",
       "  'No',\n",
       "  'No',\n",
       "  'Yes',\n",
       "  'No',\n",
       "  'Yes',\n",
       "  'No',\n",
       "  'No',\n",
       "  'No',\n",
       "  'Yes',\n",
       "  'No',\n",
       "  'No',\n",
       "  'Yes',\n",
       "  'No',\n",
       "  'No',\n",
       "  'Yes',\n",
       "  'No',\n",
       "  'No',\n",
       "  'Yes',\n",
       "  'Yes',\n",
       "  'No',\n",
       "  'No',\n",
       "  'No',\n",
       "  'Yes',\n",
       "  'No',\n",
       "  'No',\n",
       "  'No',\n",
       "  'No',\n",
       "  'Yes',\n",
       "  'Yes',\n",
       "  'No',\n",
       "  'No',\n",
       "  'No',\n",
       "  'No',\n",
       "  'No',\n",
       "  'No',\n",
       "  'No',\n",
       "  'No',\n",
       "  'No',\n",
       "  'Yes',\n",
       "  'No',\n",
       "  'No',\n",
       "  'Yes',\n",
       "  'No',\n",
       "  'No',\n",
       "  'No',\n",
       "  'No',\n",
       "  'No',\n",
       "  'No',\n",
       "  'No',\n",
       "  'No',\n",
       "  'No',\n",
       "  'No',\n",
       "  'Yes',\n",
       "  'No',\n",
       "  'No',\n",
       "  'No',\n",
       "  'No',\n",
       "  'No',\n",
       "  'No',\n",
       "  'No',\n",
       "  'No',\n",
       "  'No',\n",
       "  'No',\n",
       "  'No',\n",
       "  'No',\n",
       "  'Yes',\n",
       "  'No',\n",
       "  'No',\n",
       "  'No',\n",
       "  'No',\n",
       "  'No',\n",
       "  'No',\n",
       "  'No',\n",
       "  'Yes',\n",
       "  'No',\n",
       "  'No',\n",
       "  'No',\n",
       "  'No',\n",
       "  'No',\n",
       "  'No',\n",
       "  'No',\n",
       "  'No',\n",
       "  'No',\n",
       "  'Yes',\n",
       "  'No',\n",
       "  'No',\n",
       "  'No',\n",
       "  'Yes',\n",
       "  'No',\n",
       "  'No',\n",
       "  'No',\n",
       "  'No',\n",
       "  'No',\n",
       "  'No',\n",
       "  'Yes',\n",
       "  'No',\n",
       "  'No',\n",
       "  'No',\n",
       "  'No',\n",
       "  'No',\n",
       "  'No',\n",
       "  'No',\n",
       "  'No',\n",
       "  'No',\n",
       "  'No',\n",
       "  'No',\n",
       "  'No',\n",
       "  'No',\n",
       "  'No',\n",
       "  'No',\n",
       "  'No',\n",
       "  'No',\n",
       "  'No',\n",
       "  'No',\n",
       "  'No',\n",
       "  'No',\n",
       "  'No',\n",
       "  'No',\n",
       "  'No'],\n",
       " 'difficulty': []}"
      ]
     },
     "execution_count": 405,
     "metadata": {},
     "output_type": "execute_result"
    }
   ],
   "source": [
    "from data_utils import filter_data\n",
    "\n",
    "filtered_dict: dict[str, list[str]] = filter_data(selected_data)\n",
    "\n",
    "filtered_dict"
   ]
  },
  {
   "cell_type": "markdown",
   "metadata": {},
   "source": [
    "# Now I will count students who did and didn't take AP Comp Sci"
   ]
  },
  {
   "cell_type": "code",
   "execution_count": 406,
   "metadata": {},
   "outputs": [
    {
     "name": "stdout",
     "output_type": "stream",
     "text": [
      "{'': 403, 'Yes': 35, 'No': 135}\n"
     ]
    }
   ],
   "source": [
    "from data_utils import count\n",
    "counts = count(selected_data[\"AP_A\"])\n",
    "print(counts)"
   ]
  },
  {
   "cell_type": "markdown",
   "metadata": {},
   "source": [
    "# A bar graph to show students who have and haven't taken AP Comp Sci"
   ]
  },
  {
   "cell_type": "code",
   "execution_count": 407,
   "metadata": {},
   "outputs": [
    {
     "data": {
      "image/png": "[encoded data removed]",
      "text/plain": [
       "<Figure size 432x288 with 1 Axes>"
      ]
     },
     "metadata": {
      "needs_background": "light"
     },
     "output_type": "display_data"
    }
   ],
   "source": [
    "import matplotlib.pyplot as plt\n",
    "import numpy as np\n",
    "import matplotlib.pyplot as plt\n",
    "\n",
    "labels = [\"Yes\", \"No\"]\n",
    "y_pos = [0, 1]\n",
    "performance = [35, 135]\n",
    "\n",
    "plt.bar(y_pos, performance, align='center', alpha=.5)\n",
    "plt.xticks(y_pos, labels)\n",
    "plt.ylabel('Number of Students')\n",
    "plt.title('Did students in Comp 110 take AP Comp Sci')\n",
    "\n",
    "plt.show()"
   ]
  },
  {
   "cell_type": "markdown",
   "metadata": {},
   "source": [
    "# Now I will create a dictionary with the total difficulty rankings of those who took AP Computer Science and those who didn't"
   ]
  },
  {
   "cell_type": "code",
   "execution_count": 408,
   "metadata": {},
   "outputs": [
    {
     "name": "stdout",
     "output_type": "stream",
     "text": [
      "{'Yes': 118, 'No': 538}\n"
     ]
    }
   ],
   "source": [
    "from tabulate import tabulate\n",
    "diff_rankings_dict: dict = {}\n",
    "i: int = 0\n",
    "for item in selected_data[\"AP_A\"]:\n",
    "    if item == \"Yes\":\n",
    "        if \"Yes\" in diff_rankings_dict:\n",
    "            diff_rankings_dict[\"Yes\"] += int(selected_data[\"difficulty\"][i])\n",
    "        else:\n",
    "            diff_rankings_dict[\"Yes\"] = int(selected_data[\"difficulty\"][i])\n",
    "\n",
    "    if item == \"No\":\n",
    "        if \"No\" in diff_rankings_dict:\n",
    "            diff_rankings_dict[\"No\"] += int(selected_data[\"difficulty\"][i])\n",
    "        else:\n",
    "            diff_rankings_dict[\"No\"] = int(selected_data[\"difficulty\"][i])\n",
    "    \n",
    "    i += 1\n",
    "\n",
    "print(diff_rankings_dict)\n"
   ]
  },
  {
   "cell_type": "markdown",
   "metadata": {},
   "source": [
    "# Now I will find the average difficulty level of those who took computer science and those who didn't"
   ]
  },
  {
   "cell_type": "code",
   "execution_count": 409,
   "metadata": {},
   "outputs": [
    {
     "data": {
      "text/html": [
       "<table>\n",
       "<thead>\n",
       "<tr><th style=\"text-align: right;\">  Took AP Comp Sci</th><th style=\"text-align: right;\">  Didn&#x27;t take AP Comp Sci</th></tr>\n",
       "</thead>\n",
       "<tbody>\n",
       "<tr><td style=\"text-align: right;\">           3.37143</td><td style=\"text-align: right;\">                  3.98519</td></tr>\n",
       "</tbody>\n",
       "</table>"
      ],
      "text/plain": [
       "'<table>\\n<thead>\\n<tr><th style=\"text-align: right;\">  Took AP Comp Sci</th><th style=\"text-align: right;\">  Didn&#x27;t take AP Comp Sci</th></tr>\\n</thead>\\n<tbody>\\n<tr><td style=\"text-align: right;\">           3.37143</td><td style=\"text-align: right;\">                  3.98519</td></tr>\\n</tbody>\\n</table>'"
      ]
     },
     "execution_count": 409,
     "metadata": {},
     "output_type": "execute_result"
    }
   ],
   "source": [
    "from tabulate import tabulate\n",
    "did_take_ap: int = counts[\"Yes\"]\n",
    "didnt_take_ap: int = counts[\"No\"]\n",
    "\n",
    "average_difficulty: dict[str, list[float]] = {}\n",
    "average_difficulty[\"Took AP Comp Sci\"] = [diff_rankings_dict[\"Yes\"] / did_take_ap]\n",
    "average_difficulty[\"Didn't take AP Comp Sci\"] = [diff_rankings_dict[\"No\"] / didnt_take_ap]\n",
    "\n",
    "tabulate(average_difficulty, average_difficulty.keys(), \"html\")"
   ]
  },
  {
   "cell_type": "markdown",
   "metadata": {},
   "source": [
    "# I have displayed a bargraph below to visualize the final results"
   ]
  },
  {
   "cell_type": "code",
   "execution_count": 410,
   "metadata": {},
   "outputs": [
    {
     "data": {
      "image/png": "[encoded data removed]",
      "text/plain": [
       "<Figure size 432x288 with 1 Axes>"
      ]
     },
     "metadata": {
      "needs_background": "light"
     },
     "output_type": "display_data"
    }
   ],
   "source": [
    "import matplotlib.pyplot as plt\n",
    "import numpy as np\n",
    "import matplotlib.pyplot as plt\n",
    "\n",
    "labels = [\"Took AP Comp Sci\", \"Didn't take AP Comp Sci\"]\n",
    "y_pos = [0, 1]\n",
    "performance = [3.37143, 3.98519]\n",
    "\n",
    "plt.bar(y_pos, performance, align='center', alpha=.5)\n",
    "plt.xticks(y_pos, labels)\n",
    "plt.ylabel('Average difficulty ranking')\n",
    "plt.title('Average Difficulty Ranking of Comp 110')\n",
    "\n",
    "plt.show()"
   ]
  },
  {
   "cell_type": "markdown",
   "metadata": {},
   "source": [
    "# In conclusion, my hypothesis was correct. Students who didn't take AP Computer Science had a slightly higher difficulty ranking of Comp 110 then those who had taken it. "
   ]
  },
  {
   "cell_type": "markdown",
   "metadata": {},
   "source": [
    "### It is, however, important to note that a majority of students did not report whether they had taken AP Computer Science, so their responses were not analyzed"
   ]
  }
 ],
 "metadata": {
  "interpreter": {
   "hash": "aee8b7b246df8f9039afb4144a1f6fd8d2ca17a180786b69acc140d282b71a49"
  },
  "kernelspec": {
   "display_name": "Python 3.9.6 64-bit",
   "language": "python",
   "name": "python3"
  },
  "language_info": {
   "codemirror_mode": {
    "name": "ipython",
    "version": 3
   },
   "file_extension": ".py",
   "mimetype": "text/x-python",
   "name": "python",
   "nbconvert_exporter": "python",
   "pygments_lexer": "ipython3",
   "version": "3.9.6"
  },
  "orig_nbformat": 4
 },
 "nbformat": 4,
 "nbformat_minor": 2
}
